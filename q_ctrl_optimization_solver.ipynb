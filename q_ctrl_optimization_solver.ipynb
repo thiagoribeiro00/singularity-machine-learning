{
  "cells": [
    {
      "cell_type": "markdown",
      "metadata": {
        "id": "view-in-github",
        "colab_type": "text"
      },
      "source": [
        "<a href=\"https://colab.research.google.com/github/thiagoribeiro00/singularity-machine-learning/blob/main/q_ctrl_optimization_solver.ipynb\" target=\"_parent\"><img src=\"https://colab.research.google.com/assets/colab-badge.svg\" alt=\"Open In Colab\"/></a>"
      ]
    },
    {
      "cell_type": "markdown",
      "id": "dde95705",
      "metadata": {
        "id": "dde95705"
      },
      "source": [
        "# Optimization Solver: A Qiskit Function by Q-CTRL Fire Opal\n",
        "\n",
        "<Admonition type=\"note\">\n",
        "  Qiskit Functions are an experimental feature available only to IBM Quantum™ Premium Plan users. They are in preview release status and subject to change.\n",
        "</Admonition>\n",
        "\n",
        "## Overview\n",
        "\n",
        "With the Fire Opal Optimization Solver, you can solve utility-scale optimization problems on quantum hardware without requiring quantum expertise. Simply input the high-level problem definition, and the Solver takes care of the rest. The entire workflow is noise-aware and leverages [Fire Opal's Performance Management](/guides/q-ctrl-performance-management) under the hood. The Solver consistently delivers accurate solutions to classically challenging problems, even at full-device scale on the largest IBM® QPUs.\n",
        "\n",
        "The Solver is flexible and can be used to solve combinatorial optimization problems defined as objective functions or arbitrary graphs. Problems do not have to be mapped to device topology. Both unconstrained and constrained problems are solvable, given that constraints can be formulated as penalty terms. The examples included in this guide demonstrate how to solve an unconstrained and a constrained utility-scale optimization problem using different Solver input types. The first example involves a Max-Cut problem defined on a 156-node, 3-Regular graph, while the second example tackles a 50-node Minimum Vertex Cover problem defined by a cost function.\n",
        "\n",
        "To get access to the Optimization Solver, [contact Q-CTRL](https://form.typeform.com/to/uOAVDnGg?typeform-source=q-ctrl.com).\n",
        "\n"
      ]
    },
    {
      "cell_type": "markdown",
      "id": "5f761442",
      "metadata": {
        "id": "5f761442"
      },
      "source": [
        "## Function description\n",
        "\n",
        "The Solver fully optimizes and automates the entire algorithm, from error suppression at the hardware level to efficient problem mapping and closed-loop classical optimization. Behind the scenes, the Solver's pipeline reduces errors at every stage, enabling the enhanced performance required to meaningfully scale. The underlying workflow is inspired by the Quantum Approximate Optimization Algorithm (QAOA), which is a hybrid quantum-classical algorithm. For a detailed summary of the full Optimization Solver workflow, refer to [the published manuscript](https://arxiv.org/abs/2406.01743).\n",
        "\n",
        "![Visualization of the Optimization Solver workflow](/images/guides/qctrl-optimization/solver_workflow.svg)\n",
        "\n",
        "To solve a generic problem with the Optimization Solver:\n",
        "\n",
        "1.  Define your problem as an objective function or a graph.\n",
        "2.  Connect to the function through the Qiskit Functions Catalog.\n",
        "3.  Run the problem with the Solver and retrieve results.\n",
        "\n"
      ]
    },
    {
      "cell_type": "markdown",
      "id": "d20af236",
      "metadata": {
        "id": "d20af236"
      },
      "source": [
        "## Inputs and outputs\n",
        "\n",
        "### Inputs\n",
        "\n",
        "| Name          | Type   | Description                                                                                                                                                          | Required | Default                                                                                       | Example                                                                                                                                                            |\n",
        "| ------------- | ------ | -------------------------------------------------------------------------------------------------------------------------------------------------------------------- | -------- | --------------------------------------------------------------------------------------------- | ------------------------------------------------------------------------------------------------------------------------------------------------------------------ |\n",
        "| problem       | `str`  | One of the representations listed under \"Accepted problem formats\"                                                                                                   | Yes      | N/A                                                                                           | `Poly(2.0*n[0]*n[1] + 2.0*n[0]*n[2] - 3.13520241298341*n[0] + 2.0*n[1]*n[2] - 3.14469748506794*n[1] - 3.18897660121566*n[2] + 6.0, n[0], n[1], n[2], domain='RR')` |\n",
        "| problem\\_type | `str`  | Name of the problem class; only used for graph problem definitions, which are limited to \"maxcut\"; not required for arbitrary objective function problem definitions | No       | `None`                                                                                        | `\"maxcut\"`                                                                                                                                                         |\n",
        "| backend\\_name | `str`  | Name of the backend to use                                                                                                                                           | No       | Least busy backend that your instance has access to                                           | `\"hub1/group1/project1\"`                                                                                                                                           |\n",
        "| instance      | `str`  | The hub/group/project to use                                                                                                                                         | No       | A Premium access instance is randomly chosen if your account has access to multiple instances | `\"hub1/group1/project1\"`                                                                                                                                           |\n",
        "| options       | `dict` | Input options, including the following: (Optional) `session_id`: `str`; default behavior creates a new Session                                                       | No       | `None`                                                                                        | `{\"session_id\": \"cw2q70c79ws0008z6g4g\"}`                                                                                                                           |\n",
        "\n",
        "**Accepted problem formats:**\n",
        "\n",
        "*   Polynomial expression representation of an objective function. Ideally created in Python with an existing SymPy Poly object and formatted into a string using [sympy.srepr](https://docs.sympy.org/latest/tutorials/intro-tutorial/printing.html#srepr).\n",
        "*   Graph representation of a specific problem type. The graph should be created using the networkx library in Python. It should then converted to a string by using the networkx function `[nx.readwrite.json_graph.adjacency_data](http://nx.readwrite.json_graph.adjacency_data.)`.\n",
        "\n",
        "**Supported backends:**\n",
        "The following list of backends are currently supported. If your device is not listed, [reach out to Q-CTRL](https://form.typeform.com/to/iuujEAEI?typeform-source=q-ctrl.com) to add support.\n",
        "\n",
        "*   ibm\\_brisbane\n",
        "*   ibm\\_brussels\n",
        "*   ibm\\_cleveland\n",
        "*   ibm\\_fez\n",
        "*   ibm\\_kawasaki\n",
        "*   ibm\\_kyiv\n",
        "*   ibm\\_nazca\n",
        "*   ibm\\_quebec\n",
        "*   ibm\\_rensselaer\n",
        "*   ibm\\_sherbrooke\n",
        "*   ibm\\_strasbourg\n",
        "*   ibm\\_torino\n",
        "\n",
        "**Options:**\n",
        "\n",
        "| Name        | Type        | Description                           | Default                  |\n",
        "| ----------- | ----------- | ------------------------------------- | ------------------------ |\n",
        "| session\\_id | `str`       | An existing Qiskit Runtime session ID | `\"cw4r3je6f0t010870y3g\"` |\n",
        "| job\\_tags   | `list[str]` | A list of job tags                    | `[]`                     |\n",
        "\n",
        "### Outputs\n",
        "\n",
        "| Name   | Type             | Description                                                     | Example                                                                                                                                                                                                                                                                                                                           |\n",
        "| ------ | ---------------- | --------------------------------------------------------------- | --------------------------------------------------------------------------------------------------------------------------------------------------------------------------------------------------------------------------------------------------------------------------------------------------------------------------------- |\n",
        "| result | `dict[str, Any]` | Solution and metadata listed under \"Result dictionary contents\" | `{'solution_bitstring_cost': 3.0, ‘final_bitstring_distribution’: {‘000001’: 100, ‘000011’: 2}, ‘iteration_count’: 3, 'solution_bitstring': ‘000001’,  'variables_to_bitstring_index_map': {n[1]': 5, 'n[2]': 4, 'n[3]': 3, 'n[4]': 2, 'n[5]': 1}, 'best_parameters': [0.19628831763697097, -1.047052334523102], 'warnings': []}` |\n",
        "\n",
        "**Result dictionary contents:**\n",
        "\n",
        "| Name                                 | Type          | Description                                                              |\n",
        "| ------------------------------------ | ------------- | ------------------------------------------------------------------------ |\n",
        "| solution\\_bitstring\\_cost            | `float`       | The best minimum cost across all iterations                              |\n",
        "| final\\_bitstring\\_distribution       | `CountsDict`  | The bitstring counts dictionary associated with the minimum cost         |\n",
        "| solution\\_bitstring                  | `str`         | Bitstring with the best cost in the final distribution                   |\n",
        "| iteration\\_count                     | `int`         | The total number of QAOA iterations performed by the Solver              |\n",
        "| variables\\_to\\_bitstring\\_index\\_map | `float`       | The mapping from the variables to the equivalent bit in the bitstring    |\n",
        "| best\\_parameters                     | `list[float]` | The optimized beta and gamma parameters across all iterations            |\n",
        "| warnings                             | `list[str]`   | The warnings produced while compiling or running QAOA (defaults to None) |\n",
        "\n"
      ]
    },
    {
      "cell_type": "markdown",
      "id": "1165f4f0",
      "metadata": {
        "id": "1165f4f0"
      },
      "source": [
        "## Benchmarks\n",
        "\n",
        "[Published benchmarking results](https://arxiv.org/abs/2406.01743) show that the Solver successfully solves problems with over 120 qubits, even outperforming previously published results on quantum annealing and trapped-ion devices. The following benchmark metrics provide a rough indication of the accuracy and scaling of problem types based on a few examples. Actual metrics may differ based on various problem features, such as the number of terms in the objective function (density) and their locality, number of variables, and polynomial order.\n",
        "\n",
        "The \"Number of qubits\" indicated is not a hard limitation but represents rough thresholds where you can expect extremely consistent solution accuracy. Larger problem sizes have been successfully solved, and testing beyond these limits is encouraged.\n",
        "\n",
        "Arbitrary qubit connectivity is supported across all problem types.\n",
        "\n",
        "| Problem type                           | Number of qubits | Example                                            | Accuracy | Total time (s) | Runtime usage (s) | Number of iterations |\n",
        "| -------------------------------------- | ---------------- | -------------------------------------------------- | -------- | -------------- | ----------------- | -------------------- |\n",
        "| Sparsely-connected quadratic problems  | 156              | 3-regular Max-Cut                                  | 100%     | 1764           | 293               | 16                   |\n",
        "| Higher-order binary optimization       | 156              | Ising spin-glass model                             | 100%     | 1461           | 272               | 16                   |\n",
        "| Densely-connected quadratic problems   | 50               | Fully-connected Max-Cut                            | 100%     | 1758           | 268               | 12                   |\n",
        "| Constrained problem with penalty terms | 50               | Weighted Minimum Vertex Cover with 8% edge density | 100%     | 1074           | 215               | 10                   |\n",
        "\n"
      ]
    },
    {
      "cell_type": "markdown",
      "id": "73390a19",
      "metadata": {
        "id": "73390a19"
      },
      "source": [
        "## Get started\n",
        "\n",
        "Authenticate using your [IBM Quantum API token](http://quantum.ibm.com/), and select the Qiskit Function as follows:\n",
        "\n"
      ]
    },
    {
      "cell_type": "code",
      "execution_count": null,
      "id": "95a715d2",
      "metadata": {
        "id": "95a715d2"
      },
      "outputs": [],
      "source": [
        "from qiskit_ibm_catalog import QiskitFunctionsCatalog\n",
        "\n",
        "# If you have not previously saved your credentials, follow instructions at\n",
        "# https://docs.quantum.ibm.com/guides/setup-channel#iqp\n",
        "# to authenticate with your API token.\n",
        "catalog = QiskitFunctionsCatalog()\n",
        "\n",
        "# Access Function\n",
        "solver = catalog.load(\"q-ctrl/optimization-solver\")"
      ]
    },
    {
      "cell_type": "markdown",
      "id": "e8837f5f",
      "metadata": {
        "id": "e8837f5f"
      },
      "source": [
        "## Example: Unconstrained optimization\n",
        "\n",
        "Run the [maximum cut](https://en.wikipedia.org/wiki/Maximum_cut) (Max-Cut) problem. The following example demonstrates the Solver's capabilities on a 156-node, 3-regular unweighted graph Max-Cut problem, but you can also solve weighted graph problems.\n",
        "\n"
      ]
    },
    {
      "cell_type": "markdown",
      "id": "a699235b",
      "metadata": {
        "id": "a699235b"
      },
      "source": [
        "In addition to `qiskit-ibm-catalog`, you will also use the following packages to run this example: `networkx` and `numpy`. You can install these packages by uncommenting the following cell if you are running this example in a notebook using the IPython kernel.\n",
        "\n"
      ]
    },
    {
      "cell_type": "code",
      "execution_count": null,
      "id": "a74fe6a9",
      "metadata": {
        "id": "a74fe6a9"
      },
      "outputs": [],
      "source": [
        "# %pip install networkx numpy"
      ]
    },
    {
      "cell_type": "markdown",
      "id": "a41c4a0d",
      "metadata": {
        "id": "a41c4a0d"
      },
      "source": [
        "### 1. Define the problem\n",
        "\n",
        "You can run a Max-Cut problem by defining a graph problem and specifying `problem_type='maxcut'`.\n",
        "\n"
      ]
    },
    {
      "cell_type": "code",
      "execution_count": null,
      "id": "d56e1440",
      "metadata": {
        "id": "d56e1440"
      },
      "outputs": [],
      "source": [
        "import networkx as nx\n",
        "import numpy as np\n",
        "\n",
        "# Generate a random graph with 156 nodes\n",
        "maxcut_graph = nx.random_regular_graph(d=3, n=156, seed=8)"
      ]
    },
    {
      "cell_type": "code",
      "execution_count": null,
      "id": "0a7255e1",
      "metadata": {
        "id": "0a7255e1",
        "outputId": "f8a0eeb1-dbe4-46f5-fd3b-7913f5fa8a34"
      },
      "outputs": [
        {
          "data": {
            "text/plain": [
              "<Image src=\"/images/extracted-notebook-images/q-ctrl-optimization-solver/0a7255e1-0.avif\" alt=\"Output from the previous code\" />"
            ]
          },
          "metadata": {},
          "output_type": "display_data"
        }
      ],
      "source": [
        "# Optionally, visualize the graph\n",
        "nx.draw(maxcut_graph, nx.kamada_kawai_layout(maxcut_graph), node_size=100)"
      ]
    },
    {
      "cell_type": "markdown",
      "id": "e42a8d55",
      "metadata": {
        "id": "e42a8d55"
      },
      "source": [
        "The Solver accepts a string as the problem definition input.\n",
        "\n"
      ]
    },
    {
      "cell_type": "code",
      "execution_count": null,
      "id": "2546e3e5",
      "metadata": {
        "id": "2546e3e5"
      },
      "outputs": [],
      "source": [
        "# Convert graph to string\n",
        "problem_as_str = nx.readwrite.json_graph.adjacency_data(maxcut_graph)"
      ]
    },
    {
      "cell_type": "markdown",
      "id": "0ab6f24f",
      "metadata": {
        "id": "0ab6f24f"
      },
      "source": [
        "### 2. Run the problem\n",
        "\n",
        "When using the graph-based input method, specify the problem type.\n",
        "\n"
      ]
    },
    {
      "cell_type": "code",
      "execution_count": null,
      "id": "16c66d64",
      "metadata": {
        "id": "16c66d64"
      },
      "outputs": [],
      "source": [
        "# Solve the problem\n",
        "maxcut_job = solver.run(\n",
        "    problem=problem_as_str,\n",
        "    problem_type=\"maxcut\",\n",
        "    instance=instance,  # E.g. \"ibm-q/open/main\"\n",
        "    backend_name=backend_name,  # E.g. \"ibm_kyiv\"\n",
        ")"
      ]
    },
    {
      "cell_type": "markdown",
      "id": "48069093",
      "metadata": {
        "id": "48069093"
      },
      "source": [
        "Check your Qiskit Function workload's [status](/guides/functions#check-job-status) or return [results](/guides/functions#retrieve-results) as follows:\n",
        "\n"
      ]
    },
    {
      "cell_type": "code",
      "execution_count": null,
      "id": "856fe992",
      "metadata": {
        "id": "856fe992"
      },
      "outputs": [],
      "source": [
        "# Get job status\n",
        "print(maxcut_job.status())"
      ]
    },
    {
      "cell_type": "markdown",
      "id": "74f48eab",
      "metadata": {
        "id": "74f48eab"
      },
      "source": [
        "### 3. Retrieve the result\n",
        "\n",
        "Retrieve the optimal cut value from the results dictionary.\n",
        "\n",
        "<Admonition type=\"note\">The mapping of the variables to the bitstring may have changed. The output dictionary contains a `variables_to_bitstring_index_map` sub-dictionary, which helps to verify the ordering.</Admonition>\n",
        "\n"
      ]
    },
    {
      "cell_type": "code",
      "execution_count": null,
      "id": "6b571411",
      "metadata": {
        "id": "6b571411",
        "outputId": "d856a538-20c3-4afe-d90c-7c278692cf70"
      },
      "outputs": [
        {
          "name": "stdout",
          "output_type": "stream",
          "text": [
            "Optimal cut value: 210.0\n"
          ]
        }
      ],
      "source": [
        "# Poll for results\n",
        "maxcut_result = maxcut_job.result()\n",
        "\n",
        "# Take the absolute value of the solution since the cost function is minimized\n",
        "qctrl_maxcut = abs(maxcut_result[\"solution_bitstring_cost\"])\n",
        "\n",
        "# Print the optimal cut value found by the Optimization Solver\n",
        "print(f\"Optimal cut value: {qctrl_maxcut}\")"
      ]
    },
    {
      "cell_type": "markdown",
      "id": "508e29b0",
      "metadata": {
        "id": "508e29b0"
      },
      "source": [
        "You can verify the accuracy of the result by solving the problem classically with open-source solvers like [PuLP](https://coin-or.github.io/pulp/) if the graph is not densely connected. High density problems may require advanced classical solvers to validate the solution.\n",
        "\n"
      ]
    },
    {
      "cell_type": "markdown",
      "id": "e2817b13",
      "metadata": {
        "id": "e2817b13"
      },
      "source": [
        "## Example: Constrained optimization\n",
        "\n",
        "The prior Max-Cut example is a common quadratic unconstrained binary optimization problem. Q-CTRL's Optimization Solver can be used for various problem types, including constrained optimization. You can solve arbitrary problem types by inputting the problem definition represented as a polynomial where constraints are modeled as penalty terms.\n",
        "\n",
        "The following example demonstrates how to construct a cost function for a constrained optimization problem, [minimum vertex cover](https://en.wikipedia.org/wiki/Vertex_cover) (MVC).\n",
        "\n"
      ]
    },
    {
      "cell_type": "markdown",
      "id": "a9fbc0e9",
      "metadata": {
        "id": "a9fbc0e9"
      },
      "source": [
        "In addition to the `qiskit-ibm-catalog` and `qiskit` packages, you will also use the following packages to run this example: `numpy`, `networkx`, and `sympy`. You can install these packages by uncommenting the following cell if you are running this example in a notebook using the IPython kernel.\n",
        "\n"
      ]
    },
    {
      "cell_type": "code",
      "execution_count": null,
      "id": "c6428fd0",
      "metadata": {
        "id": "c6428fd0"
      },
      "outputs": [],
      "source": [
        "# %pip install numpy networkx sympy"
      ]
    },
    {
      "cell_type": "markdown",
      "id": "98d3bfd3",
      "metadata": {
        "id": "98d3bfd3"
      },
      "source": [
        "### 1. Define the problem\n",
        "\n",
        "Define a random MVC problem by generating a graph with randomly weighted nodes.\n",
        "\n"
      ]
    },
    {
      "cell_type": "code",
      "execution_count": null,
      "id": "c2ce65e3",
      "metadata": {
        "id": "c2ce65e3",
        "outputId": "5c8433e3-a2a4-4cc4-b886-e729e0715353"
      },
      "outputs": [
        {
          "data": {
            "text/plain": [
              "<Image src=\"/images/extracted-notebook-images/q-ctrl-optimization-solver/c2ce65e3-0.avif\" alt=\"Output from the previous code\" />"
            ]
          },
          "metadata": {},
          "output_type": "display_data"
        }
      ],
      "source": [
        "import networkx as nx\n",
        "from sympy import symbols, Poly, srepr\n",
        "\n",
        "# To change the weights, change the seed to any integer.\n",
        "rng_seed = 18\n",
        "_rng = np.random.default_rng(rng_seed)\n",
        "node_count = 50\n",
        "edge_probability = 0.08\n",
        "mvc_graph = nx.erdos_renyi_graph(\n",
        "    node_count, edge_probability, seed=rng_seed, directed=False\n",
        ")\n",
        "\n",
        "# add node weights\n",
        "for i in mvc_graph.nodes:\n",
        "    mvc_graph.add_node(i, weight=_rng.random())\n",
        "\n",
        "# Optionally, visualize the graph\n",
        "nx.draw(mvc_graph, nx.kamada_kawai_layout(mvc_graph), node_size=200)"
      ]
    },
    {
      "cell_type": "markdown",
      "id": "89c91472",
      "metadata": {
        "id": "89c91472"
      },
      "source": [
        "A standard optimization model for weighted MVC can be formulated as follows. First, a penalty must be added for any case where an edge is not connected to a vertex in the subset. Therefore, let $n_i = 1$ if vertex $i$ is in the cover (i.e., in the subset) and $n_i = 0$ otherwise. Second, the goal is to minimize the total number of vertices in the subset, which can be represented by the following function:\n",
        "\n",
        "$\\textbf{Minimize}\\qquad y = \\sum_{i\\in V} \\omega_i n_i$\n",
        "\n"
      ]
    },
    {
      "cell_type": "code",
      "execution_count": null,
      "id": "91586ee9",
      "metadata": {
        "id": "91586ee9"
      },
      "outputs": [],
      "source": [
        "# Construct the cost function.\n",
        "variables = symbols([f\"n[{i}]\" for i in range(node_count)])\n",
        "cost_function = Poly(0, variables)\n",
        "\n",
        "for i in mvc_graph.nodes():\n",
        "    weight = mvc_graph.nodes[i].get(\"weight\", 0)\n",
        "    cost_function += variables[i] * weight"
      ]
    },
    {
      "cell_type": "markdown",
      "id": "9d01684b",
      "metadata": {
        "id": "9d01684b"
      },
      "source": [
        "Now every edge in the graph should include at least one end point from the cover, which can be expressed as the inequality:\n",
        "\n",
        "$n_i + n_j \\ge 1 \\texttt{ for all } (i,j)\\in E$\n",
        "\n",
        "Any case where an edge is not connected to the vertex of cover must be penalized. This can be represented in the cost function by adding a penalty of the form $P(1-n_i-n_j+n_i n_j)$ where $P$ is a positive penalty constant. Thus, an unconstrained alternative to the constrained inequality for weighted MVC is:\n",
        "\n",
        "$\\textbf{Minimize}\\qquad y = \\sum_{i\\in V}\\omega_i n_i + P(\\sum_{(i,j)\\in E}(1 - n_i - n_j + n_i n_j))$\n",
        "\n"
      ]
    },
    {
      "cell_type": "code",
      "execution_count": null,
      "id": "1ff1ffcc",
      "metadata": {
        "id": "1ff1ffcc"
      },
      "outputs": [],
      "source": [
        "# Add penalty term.\n",
        "penalty_constant = 2\n",
        "for i, j in mvc_graph.edges():\n",
        "    cost_function += penalty_constant * (\n",
        "        1 - variables[i] - variables[j] + variables[i] * variables[j]\n",
        "    )"
      ]
    },
    {
      "cell_type": "markdown",
      "id": "9fd0ba9e",
      "metadata": {
        "id": "9fd0ba9e"
      },
      "source": [
        "### 2. Run the problem\n",
        "\n"
      ]
    },
    {
      "cell_type": "code",
      "execution_count": null,
      "id": "f380b56d",
      "metadata": {
        "id": "f380b56d"
      },
      "outputs": [],
      "source": [
        "# Solve the problem\n",
        "mvc_job = solver.run(\n",
        "    problem=srepr(cost_function),\n",
        "    instance=instance,  # E.g. \"ibm-q/open/main\"\n",
        "    backend_name=backend_name,  # E.g. \"ibm_kyiv\"\n",
        ")"
      ]
    },
    {
      "cell_type": "markdown",
      "id": "d154c226",
      "metadata": {
        "id": "d154c226"
      },
      "source": [
        "Check your Qiskit Function workload's [status](/guides/functions#check-job-status) or return [results](/guides/functions#retrieve-results) as follows:\n",
        "\n"
      ]
    },
    {
      "cell_type": "code",
      "execution_count": null,
      "id": "6de77b14",
      "metadata": {
        "id": "6de77b14"
      },
      "outputs": [],
      "source": [
        "print(mvc_job.status())"
      ]
    },
    {
      "cell_type": "markdown",
      "id": "8a95618e",
      "metadata": {
        "id": "8a95618e"
      },
      "source": [
        "### 3. Get the result\n",
        "\n",
        "Retrieve the solution and analyze the results. Because this problem has weighted nodes, the solution is not simply the minimum number of nodes covered. Instead, the solution cost represents the sum of the weights of the vertices that are included in the vertex cover. It represents the total \"cost\" or \"weight\" of covering all the edges in the graph using the selected vertices.\n",
        "\n"
      ]
    },
    {
      "cell_type": "code",
      "execution_count": null,
      "id": "a924bf93",
      "metadata": {
        "id": "a924bf93",
        "outputId": "8daad17f-6ef4-4a83-a855-fc07355c881c"
      },
      "outputs": [
        {
          "name": "stdout",
          "output_type": "stream",
          "text": [
            "Solution cost: 10.248198273708624\n"
          ]
        }
      ],
      "source": [
        "mvc_result = mvc_job.result()\n",
        "qctrl_cost = mvc_result[\"solution_bitstring_cost\"]\n",
        "\n",
        "# Print results\n",
        "print(f\"Solution cost: {qctrl_cost}\")"
      ]
    },
    {
      "cell_type": "markdown",
      "id": "e9ec2e67",
      "metadata": {
        "id": "e9ec2e67"
      },
      "source": [
        "## Get support\n",
        "\n",
        "For any questions or issues, [reach out to Q-CTRL](https://form.typeform.com/to/iuujEAEI?typeform-source=q-ctrl.com).\n",
        "\n"
      ]
    },
    {
      "cell_type": "markdown",
      "id": "5a6a25c8",
      "metadata": {
        "id": "5a6a25c8"
      },
      "source": [
        "## Next steps\n",
        "\n",
        "<Admonition type=\"tip\" title=\"Recommendations\">\n",
        "  *   Request access to [Q-CTRL Optimization Solver](https://quantum.ibm.com/functions?id=a8a2b0b6-486a-41b5-8ea4-ada3b108d6b6)\n",
        "  *   Try the [Solve higher-order binary optimization problems with Q-CTRL's Optimization Solver](https://learning.quantum.ibm.com/tutorial/solve-higher-order-binary-optimization-problems-with-q-ctrls-optimization-solver) tutorial.\n",
        "</Admonition>\n",
        "\n"
      ]
    }
  ],
  "metadata": {
    "description": "Start solving utility-scale optimization problems with the Fire Opal Optimization Solver by Q-CTRL",
    "kernelspec": {
      "display_name": "Python 3",
      "language": "python",
      "name": "python3"
    },
    "language_info": {
      "codemirror_mode": {
        "name": "ipython",
        "version": 3
      },
      "file_extension": ".py",
      "mimetype": "text/x-python",
      "name": "python",
      "nbconvert_exporter": "python",
      "pygments_lexer": "ipython3",
      "version": "3"
    },
    "title": "Optimization Solver - A Qiskit Function by Q-CTRL Fire Opal",
    "colab": {
      "provenance": [],
      "include_colab_link": true
    }
  },
  "nbformat": 4,
  "nbformat_minor": 5
}